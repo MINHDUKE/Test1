{
 "cells": [
  {
   "cell_type": "code",
   "execution_count": 6,
   "metadata": {},
   "outputs": [
    {
     "name": "stdout",
     "output_type": "stream",
     "text": [
      "()\n",
      "<class 'tuple'>\n",
      "(-1.0,)\n",
      "<class 'tuple'>\n",
      "(-3.0, 1.0)\n",
      "<class 'tuple'>\n"
     ]
    }
   ],
   "source": [
    "import math\n",
    "def compute_quadratic_equation(a,b,c):\n",
    "    '''\n",
    "    this func to calculate quaratic equation\n",
    "    a,b,x ax^2+bx+c=0\n",
    "    return roots\n",
    "    '''\n",
    "    delta = b**2 -4*a*c\n",
    "    if delta < 0:\n",
    "        return()     \n",
    "    elif delta == 0:\n",
    "        x = -b/(2*a);\n",
    "        return (x,)\n",
    "    else:\n",
    "        x1 = (-b - math.sqrt(delta)) / (2*a) \n",
    "        x2 = (-b + math.sqrt(delta)) / (2*a)\n",
    "        return (x1,x2)\n",
    "#test case\n",
    "# a = 1; b = 0; c = 4 delta < 0\n",
    "# a = 1; b = 2; c = 1 delta = 0\n",
    "# a = 1; b = 2; c = -3 delta > 0\n",
    "\n",
    "case1 = compute_quadratic_equation(1,0,4)\n",
    "print(case1)\n",
    "print(type(case1))\n",
    "case2 = compute_quadratic_equation(1,2,1)\n",
    "print(case2)\n",
    "print(type(case2))\n",
    "case3 = compute_quadratic_equation(1,2,-3)\n",
    "print(case3)\n",
    "print(type(case3))"
   ]
  },
  {
   "cell_type": "code",
   "execution_count": 15,
   "metadata": {},
   "outputs": [
    {
     "name": "stdout",
     "output_type": "stream",
     "text": [
      "aa,20\n",
      "\n",
      "bb,30\n",
      "\n",
      "cc,40\n"
     ]
    }
   ],
   "source": [
    "file = open('index.txt','r')\n",
    "\n",
    "# content = file.read()\n",
    "lines = file.readlines()\n",
    "for line in lines:\n",
    "    print(line)\n",
    "\n",
    "file.close()"
   ]
  },
  {
   "cell_type": "code",
   "execution_count": 18,
   "metadata": {},
   "outputs": [],
   "source": [
    "#conect file\n",
    "file = open('teacher.txt','w')\n",
    "file.write('43434 - 40')\n",
    "\n",
    "file.close()"
   ]
  },
  {
   "cell_type": "code",
   "execution_count": 21,
   "metadata": {},
   "outputs": [],
   "source": [
    "#thêm vào file đã tạo\n",
    "file = open('teacher.txt','a')\n",
    "#process\n",
    "file.write('\\nhoang - 4343')\n",
    "file.write('\\nhoangfdf - 43434343')\n",
    "\n",
    "\n",
    "file.close()"
   ]
  },
  {
   "cell_type": "code",
   "execution_count": 22,
   "metadata": {},
   "outputs": [
    {
     "ename": "FileNotFoundError",
     "evalue": "[Errno 2] No such file or directory: 'data.csv'",
     "output_type": "error",
     "traceback": [
      "\u001b[0;31m---------------------------------------------------------------------------\u001b[0m",
      "\u001b[0;31mFileNotFoundError\u001b[0m                         Traceback (most recent call last)",
      "\u001b[0;32m<ipython-input-22-8d53845c8142>\u001b[0m in \u001b[0;36m<module>\u001b[0;34m\u001b[0m\n\u001b[1;32m      1\u001b[0m \u001b[0;31m#conect\u001b[0m\u001b[0;34m\u001b[0m\u001b[0;34m\u001b[0m\u001b[0;34m\u001b[0m\u001b[0m\n\u001b[0;32m----> 2\u001b[0;31m \u001b[0mfile\u001b[0m \u001b[0;34m=\u001b[0m \u001b[0mopen\u001b[0m\u001b[0;34m(\u001b[0m\u001b[0;34m'data.csv'\u001b[0m\u001b[0;34m,\u001b[0m\u001b[0;34m'r'\u001b[0m\u001b[0;34m)\u001b[0m\u001b[0;34m\u001b[0m\u001b[0;34m\u001b[0m\u001b[0m\n\u001b[0m\u001b[1;32m      3\u001b[0m \u001b[0mline\u001b[0m \u001b[0;34m=\u001b[0m \u001b[0mfile\u001b[0m\u001b[0;34m.\u001b[0m\u001b[0mreadlines\u001b[0m\u001b[0;34m(\u001b[0m\u001b[0;34m)\u001b[0m\u001b[0;34m\u001b[0m\u001b[0;34m\u001b[0m\u001b[0m\n\u001b[1;32m      4\u001b[0m \u001b[0;34m\u001b[0m\u001b[0m\n\u001b[1;32m      5\u001b[0m \u001b[0;34m\u001b[0m\u001b[0m\n",
      "\u001b[0;31mFileNotFoundError\u001b[0m: [Errno 2] No such file or directory: 'data.csv'"
     ]
    }
   ],
   "source": [
    "#conect\n",
    "file = open('data.csv','r')\n",
    "lines = file.readlines()\n",
    "for line in lines:\n",
    "    tokens line.split(',')\n",
    "    for token in tokens:\n",
    "        print(token)\n",
    "file.close()"
   ]
  },
  {
   "cell_type": "code",
   "execution_count": null,
   "metadata": {},
   "outputs": [],
   "source": []
  }
 ],
 "metadata": {
  "kernelspec": {
   "display_name": "Python 3",
   "language": "python",
   "name": "python3"
  },
  "language_info": {
   "codemirror_mode": {
    "name": "ipython",
    "version": 3
   },
   "file_extension": ".py",
   "mimetype": "text/x-python",
   "name": "python",
   "nbconvert_exporter": "python",
   "pygments_lexer": "ipython3",
   "version": "3.8.3"
  }
 },
 "nbformat": 4,
 "nbformat_minor": 4
}
